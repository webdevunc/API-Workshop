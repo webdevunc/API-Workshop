{
  "nbformat": 4,
  "nbformat_minor": 0,
  "metadata": {
    "colab": {
      "provenance": [],
      "include_colab_link": true
    },
    "kernelspec": {
      "name": "python3",
      "display_name": "Python 3"
    },
    "language_info": {
      "name": "python"
    }
  },
  "cells": [
    {
      "cell_type": "markdown",
      "metadata": {
        "id": "view-in-github",
        "colab_type": "text"
      },
      "source": [
        "<a href=\"https://colab.research.google.com/github/webdevunc/API-Workshop/blob/main/WebDev_API_Workshop.ipynb\" target=\"_parent\"><img src=\"https://colab.research.google.com/assets/colab-badge.svg\" alt=\"Open In Colab\"/></a>"
      ]
    },
    {
      "cell_type": "markdown",
      "source": [
        "#Web Dev Club - API Workshop"
      ],
      "metadata": {
        "id": "HRlt4dprtFSf"
      }
    },
    {
      "cell_type": "markdown",
      "source": [
        "## What is an API?\n",
        "\n",
        "[Intro Video](https://www.youtube.com/watch?v=bxuYDT-BWaI)\n",
        "\n",
        "**A**pplication\n",
        "**P**rogram\n",
        "**I**nterface\n",
        "\n",
        "APIs are used to connect programs to other programs through the Internet! We can use APIs within our web applications to connect to externals web servers - using online data to enhance our applications and provide extremely useful functionality to users.\n",
        "\n",
        "In this demonstration, we will be using the Python programming language."
      ],
      "metadata": {
        "id": "GfbD4Bv3u9_D"
      }
    },
    {
      "cell_type": "markdown",
      "source": [
        "## REST APIs in Python\n",
        "\n",
        "We can REST APIs using HTTP requests.\n",
        "\n",
        "| HTTP Method | Description                            |\n",
        "| ----------- | -------------------------------------- |\n",
        "| GET         | Retrieve an existing resource.         |\n",
        "| POST        | Create a new resource.                 |\n",
        "| PUT         | Update an existing resource.           |\n",
        "| PATCH       | Partially update an existing resource. |\n",
        "| DELETE      | Delete a resource.                     |\n",
        "\n",
        "For the purposes of this lesson, we will simply be using the concept of the GET method, since we want to retrieve external data!\n"
      ],
      "metadata": {
        "id": "VWFbmKM35bJi"
      }
    },
    {
      "cell_type": "markdown",
      "source": [
        "##Example"
      ],
      "metadata": {
        "id": "zdFmzEmK4xC3"
      }
    },
    {
      "cell_type": "markdown",
      "source": [
        "We will walk through an example using [OpenLibrary's Search API](https://openlibrary.org/dev/docs/api/search). This API allows you to search for books and retrieve book data on Open Library."
      ],
      "metadata": {
        "id": "cQ4hr8vcJxjC"
      }
    },
    {
      "cell_type": "markdown",
      "source": [
        "Use the `pip` command to install the `requests` library. This package simplifies the process of interacting with APIs and allows us to get data from the web."
      ],
      "metadata": {
        "id": "lvu86si-0Ll3"
      }
    },
    {
      "cell_type": "code",
      "source": [
        "!pip install requests"
      ],
      "metadata": {
        "id": "fJsbwQeFvj5b",
        "colab": {
          "base_uri": "https://localhost:8080/"
        },
        "outputId": "48b4b191-eae1-4f40-ae77-2dba49f0259a"
      },
      "execution_count": null,
      "outputs": [
        {
          "output_type": "stream",
          "name": "stdout",
          "text": [
            "Requirement already satisfied: requests in /usr/local/lib/python3.10/dist-packages (2.31.0)\n",
            "Requirement already satisfied: charset-normalizer<4,>=2 in /usr/local/lib/python3.10/dist-packages (from requests) (3.3.2)\n",
            "Requirement already satisfied: idna<4,>=2.5 in /usr/local/lib/python3.10/dist-packages (from requests) (3.6)\n",
            "Requirement already satisfied: urllib3<3,>=1.21.1 in /usr/local/lib/python3.10/dist-packages (from requests) (2.0.7)\n",
            "Requirement already satisfied: certifi>=2017.4.17 in /usr/local/lib/python3.10/dist-packages (from requests) (2024.2.2)\n"
          ]
        }
      ]
    },
    {
      "cell_type": "markdown",
      "source": [
        "Import the `requests` package into our code. Next, using `requests`, let's run the `GET` command for the specified URL. We will store the result into a variable called `response`."
      ],
      "metadata": {
        "id": "A01GyvYw01PV"
      }
    },
    {
      "cell_type": "code",
      "source": [
        "import requests\n",
        "\n",
        "request_url = \"https://openlibrary.org/search.json?q=hunger+games\"\n",
        "response = requests.get(request_url)"
      ],
      "metadata": {
        "id": "fx-2TJANvlVM"
      },
      "execution_count": null,
      "outputs": []
    },
    {
      "cell_type": "markdown",
      "source": [
        "The response with be of the following format.\n",
        "\n",
        "```\n",
        "{\n",
        "    \"start\": 0,\n",
        "    \"num_found\": 629,\n",
        "    \"docs\": [\n",
        "        {...},\n",
        "        {...},\n",
        "        ...\n",
        "        {...}]\n",
        "}\n",
        "```\n",
        "\n"
      ],
      "metadata": {
        "id": "0hTBqN931VJJ"
      }
    },
    {
      "cell_type": "markdown",
      "source": [
        "Using `.json()`, we can view the response."
      ],
      "metadata": {
        "id": "rhAcl3qRPt8x"
      }
    },
    {
      "cell_type": "code",
      "source": [
        "response.json()"
      ],
      "metadata": {
        "id": "qSlz1jPZvpxb"
      },
      "execution_count": null,
      "outputs": []
    },
    {
      "cell_type": "markdown",
      "source": [
        "From response, we can look at specific data, such as the number of books found from the search."
      ],
      "metadata": {
        "id": "5BcBzWxn2km6"
      }
    },
    {
      "cell_type": "code",
      "source": [
        "print(response.json()['num_found'])"
      ],
      "metadata": {
        "id": "sHA7pirmznwv"
      },
      "execution_count": null,
      "outputs": []
    },
    {
      "cell_type": "markdown",
      "source": [
        "Or, we can also look at specific information for each result, such as title, author, and subjects. Here is some data from the first result:"
      ],
      "metadata": {
        "id": "KeLgekyK2w4A"
      }
    },
    {
      "cell_type": "code",
      "source": [
        "print(response.json()['docs'][0]['title'])"
      ],
      "metadata": {
        "id": "B79bTnMB3T6A"
      },
      "execution_count": null,
      "outputs": []
    },
    {
      "cell_type": "code",
      "source": [
        "print(response.json()['docs'][0]['author_name'])"
      ],
      "metadata": {
        "id": "GBCsIlRyxgub"
      },
      "execution_count": null,
      "outputs": []
    },
    {
      "cell_type": "code",
      "source": [
        "print(response.json()['docs'][0]['subject'])"
      ],
      "metadata": {
        "id": "2v82VGdI3c4o"
      },
      "execution_count": null,
      "outputs": []
    },
    {
      "cell_type": "markdown",
      "source": [
        "Try to find a book of a certain genre!\n",
        "\n",
        "You can conduct your own search using the format below, be sure to replace `{genre}` with any genre that you would like:\n",
        "\n"
      ],
      "metadata": {
        "id": "NVlXVV_r3mOC"
      }
    },
    {
      "cell_type": "code",
      "source": [
        "request_url = \"https://openlibrary.org/search.json?subject={genre}\"\n",
        "response = requests.get(request_url)"
      ],
      "metadata": {
        "id": "zm0YwD9W4dMW"
      },
      "execution_count": null,
      "outputs": []
    },
    {
      "cell_type": "code",
      "source": [
        "print(response.json()['docs'][0]['title'])"
      ],
      "metadata": {
        "id": "es5-gdWO521C",
        "colab": {
          "base_uri": "https://localhost:8080/"
        },
        "outputId": "51c25a12-0762-48b1-b3c1-a6f10884e909"
      },
      "execution_count": null,
      "outputs": [
        {
          "output_type": "stream",
          "name": "stdout",
          "text": [
            "The Man in the Brown Suit\n"
          ]
        }
      ]
    },
    {
      "cell_type": "markdown",
      "source": [
        "## Display using HTML\n",
        "\n",
        "Now that we have some data, let's share it on the web using good old HTML!"
      ],
      "metadata": {
        "id": "GwNr2Jz88YZo"
      }
    },
    {
      "cell_type": "code",
      "source": [
        "%%html\n",
        "<html>\n",
        "<head>\n",
        "  <title>My Website</title>\n",
        "</head>\n",
        "<body>\n",
        "  <h1>Book title</h1>\n",
        "  <p>Author</p>\n",
        "  <p>Book rating.</p>\n",
        "</body>\n",
        "</html>\n"
      ],
      "metadata": {
        "colab": {
          "base_uri": "https://localhost:8080/",
          "height": 123
        },
        "id": "AlpbU5Zb7G08",
        "outputId": "bebcb2bf-61b5-4b82-d0d6-56668429a7e4"
      },
      "execution_count": null,
      "outputs": [
        {
          "output_type": "display_data",
          "data": {
            "text/plain": [
              "<IPython.core.display.HTML object>"
            ],
            "text/html": [
              "<html>\n",
              "<head>\n",
              "  <title>Hunger Games Website</title>\n",
              "</head>\n",
              "<body>\n",
              "  <h1>Book title</h1>\n",
              "  <p>Author</p>\n",
              "  <p>A short description of the book.</p>\n",
              "  <script>\n",
              "\n",
              "  </script>\n",
              "\n",
              "</body>\n",
              "</html>\n"
            ]
          },
          "metadata": {}
        }
      ]
    },
    {
      "cell_type": "markdown",
      "source": [
        "In the previous example we used Python to get our data, but here we want to use Javascript to display it in our HTML document.\n",
        "\n",
        "I used the fetch() method with the API request url to get the data I want and then add it to the page by modifying the HTML in the `<script>` tag.\n",
        "\n",
        "See below."
      ],
      "metadata": {
        "id": "MJ9p8Z88AjJO"
      }
    },
    {
      "cell_type": "code",
      "source": [
        "%%html\n",
        "<html>\n",
        "<head>\n",
        "  <title>My Website</title>\n",
        "</head>\n",
        "<body>\n",
        "  <h1 id=\"title\">Book title</h1>\n",
        "  <p id=\"author\">Author</p>\n",
        "  <p id=\"rating\">A rating of the book.</p>\n",
        "  <script>\n",
        "    fetch('https://openlibrary.org/search.json?q=hunger+games')\n",
        "  .then(response => response.json())\n",
        "  .then(data => {\n",
        "    // Handle the data received from the API\n",
        "    console.log(data);\n",
        "    document.getElementById('title').textContent = data['docs'][0]['title'];\n",
        "    document.getElementById('author').textContent = data['docs'][0]['author_name'];\n",
        "    document.getElementById('rating').textContent = data['docs'][0]['ratings_average'];\n",
        "  })\n",
        "  .catch(error => {\n",
        "    // Handle any errors that occur during the request\n",
        "    console.error('Error:', error);\n",
        "  });\n",
        "  </script>\n",
        "</body>\n",
        "</html>\n"
      ],
      "metadata": {
        "colab": {
          "base_uri": "https://localhost:8080/",
          "height": 123
        },
        "id": "hswOyRXX-Mnd",
        "outputId": "b126faec-07b7-477c-e62e-34bb6130506c"
      },
      "execution_count": null,
      "outputs": [
        {
          "output_type": "display_data",
          "data": {
            "text/plain": [
              "<IPython.core.display.HTML object>"
            ],
            "text/html": [
              "<html>\n",
              "<head>\n",
              "  <title>My Website</title>\n",
              "</head>\n",
              "<body>\n",
              "  <h1 id=\"title\">Book title</h1>\n",
              "  <p id=\"author\">Author</p>\n",
              "  <p id=\"rating\">A rating of the book.</p>\n",
              "  <script>\n",
              "    fetch('https://openlibrary.org/search.json?q=hunger+games')\n",
              "  .then(response => response.json())\n",
              "  .then(data => {\n",
              "    // Handle the data received from the API\n",
              "    console.log(data);\n",
              "    document.getElementById('title').textContent = data['docs'][0]['title'];\n",
              "    document.getElementById('author').textContent = data['docs'][0]['author_name'];\n",
              "    document.getElementById('rating').textContent = data['docs'][0]['ratings_average'];\n",
              "  })\n",
              "  .catch(error => {\n",
              "    // Handle any errors that occur during the request\n",
              "    console.error('Error:', error);\n",
              "  });\n",
              "  </script>\n",
              "</body>\n",
              "</html>\n"
            ]
          },
          "metadata": {}
        }
      ]
    },
    {
      "cell_type": "markdown",
      "source": [
        "## Try it yourself!\n",
        "\n",
        "Try to find some APIs that you could potentially incorporate in a project. Here's a list of [public APIs](https://github.com/public-apis/public-apis) to get started!"
      ],
      "metadata": {
        "id": "SkkRZ6125hot"
      }
    }
  ]
}